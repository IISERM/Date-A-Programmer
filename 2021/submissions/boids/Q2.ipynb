{
 "cells": [
  {
   "cell_type": "code",
   "execution_count": 1,
   "metadata": {},
   "outputs": [],
   "source": [
    "import matplotlib.pyplot as plt\n",
    "import numpy as np"
   ]
  },
  {
   "cell_type": "code",
   "execution_count": 2,
   "metadata": {},
   "outputs": [],
   "source": [
    "parent = ['A', 'a']"
   ]
  },
  {
   "cell_type": "code",
   "execution_count": 3,
   "metadata": {},
   "outputs": [],
   "source": [
    "l=[[['A','a']]]"
   ]
  },
  {
   "cell_type": "code",
   "execution_count": 4,
   "metadata": {},
   "outputs": [],
   "source": [
    "def reproduce(temp):\n",
    "    j = []\n",
    "    for i in temp:\n",
    "        k = []\n",
    "        k.append(np.random.choice(i))\n",
    "        k.append(np.random.choice(parent))\n",
    "        j.append(k)\n",
    "        k = []\n",
    "        k.append(np.random.choice(i))\n",
    "        k.append(np.random.choice(parent))\n",
    "        j.append(k)\n",
    "    return j\n"
   ]
  },
  {
   "cell_type": "code",
   "execution_count": 5,
   "metadata": {},
   "outputs": [],
   "source": [
    "def reproduce_k(k):\n",
    "    l=[[['A','a']]]\n",
    "    for i in range(k):\n",
    "        l.append(reproduce(l[-1]))\n",
    "    return l"
   ]
  },
  {
   "cell_type": "code",
   "execution_count": 6,
   "metadata": {},
   "outputs": [],
   "source": [
    "def num_ind(data):\n",
    "    n = 0.0\n",
    "    for i in data:\n",
    "        c = ord(i[0])+ord(i[1])\n",
    "        if c == 162:\n",
    "            n+=1\n",
    "    return n"
   ]
  },
  {
   "cell_type": "code",
   "execution_count": 7,
   "metadata": {},
   "outputs": [],
   "source": [
    "def num_ind_afterk(k):\n",
    "    n = num_ind(reproduce_k(k)[-1])\n",
    "    return n"
   ]
  },
  {
   "cell_type": "code",
   "execution_count": 64,
   "metadata": {},
   "outputs": [],
   "source": [
    "def prob_after_k(k, N):\n",
    "    v = []\n",
    "    for i in range(1000):\n",
    "        n = num_ind_afterk(k)\n",
    "        if (n >= N):\n",
    "            v.append(1)\n",
    "    print(v)\n",
    "    return np.sum(v)/len(v)"
   ]
  },
  {
   "cell_type": "code",
   "execution_count": 71,
   "metadata": {},
   "outputs": [
    {
     "output_type": "stream",
     "name": "stdout",
     "text": [
      "0.0\n"
     ]
    }
   ],
   "source": [
    "k=1\n",
    "N=3\n",
    "def find_prob(k,N):\n",
    "    phi = []\n",
    "    for i in range(10000):\n",
    "        phi.append(num_ind_afterk(k))\n",
    "    n = phi.count(N) # Question asks for atleast\n",
    "    n/=len(phi)\n",
    "    print(n**2) #squared since there are 2 independent loci\n",
    "find_prob(k,N)"
   ]
  },
  {
   "cell_type": "code",
   "execution_count": null,
   "metadata": {},
   "outputs": [],
   "source": []
  },
  {
   "cell_type": "code",
   "execution_count": null,
   "metadata": {},
   "outputs": [],
   "source": []
  }
 ],
 "metadata": {
  "kernelspec": {
   "display_name": "Python 3",
   "language": "python",
   "name": "python3"
  },
  "language_info": {
   "codemirror_mode": {
    "name": "ipython",
    "version": 3
   },
   "file_extension": ".py",
   "mimetype": "text/x-python",
   "name": "python",
   "nbconvert_exporter": "python",
   "pygments_lexer": "ipython3",
   "version": "3.8.5-final"
  }
 },
 "nbformat": 4,
 "nbformat_minor": 2
}