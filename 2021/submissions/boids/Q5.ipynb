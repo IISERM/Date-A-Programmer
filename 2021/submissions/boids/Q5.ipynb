{
 "cells": [
  {
   "cell_type": "code",
   "execution_count": 2,
   "metadata": {},
   "outputs": [],
   "source": [
    "import numpy as np"
   ]
  },
  {
   "cell_type": "code",
   "execution_count": 12,
   "metadata": {},
   "outputs": [],
   "source": [
    "charges = [0,0,0,0,0,0]\n",
    "ai = int(input(\"Select a number between 0 and 5: \"))\n",
    "aj = int(input(\"Select a number between 0 and 5: \"))\n",
    "ak = int(input(\"Select a number between 0 and 5: \"))\n",
    "al = int(input(\"Select a number between 0 and 5: \"))"
   ]
  },
  {
   "cell_type": "code",
   "execution_count": 6,
   "metadata": {},
   "outputs": [],
   "source": [
    "charge_dict = {\"ai\":charges[ai],\"aj\":charges[aj],\"ak\":charges[ak],\"al\":charges[al]}\n",
    "pos_dict = {\"ai\":np.array([1,2,3]),\"aj\":np.array([4,5,6]),\"ak\":np.array([7,8,9]),\"al\":np.array([10,11,12])}\n",
    "amino = [\"ai\",\"aj\",\"ak\",\"al\"]"
   ]
  },
  {
   "cell_type": "code",
   "execution_count": 7,
   "metadata": {},
   "outputs": [
    {
     "output_type": "stream",
     "name": "stdout",
     "text": [
      "-0.005866345902463158\n"
     ]
    }
   ],
   "source": [
    "#Energy function\n",
    "E = 0\n",
    "for i in amino:\n",
    "    for j in amino[amino.index(i)+1:]:\n",
    "        E += charge_dict[i]*charge_dict[j]/np.linalg.norm(pos_dict[i]-pos_dict[j])\n",
    "    E += 16*((1/np.linalg.norm(pos_dict[i]))**12 - (1/np.linalg.norm(pos_dict[i]))**6)\n",
    "print(E)"
   ]
  },
  {
   "cell_type": "code",
   "execution_count": 13,
   "metadata": {},
   "outputs": [
    {
     "output_type": "error",
     "ename": "ValueError",
     "evalue": "cannot convert float NaN to integer",
     "traceback": [
      "\u001b[1;31m---------------------------------------------------------------------------\u001b[0m",
      "\u001b[1;31mValueError\u001b[0m                                Traceback (most recent call last)",
      "\u001b[1;32m<ipython-input-13-c8cfb27c5738>\u001b[0m in \u001b[0;36m<module>\u001b[1;34m\u001b[0m\n\u001b[0;32m     91\u001b[0m     \u001b[0mpos_dict\u001b[0m\u001b[1;33m[\u001b[0m\u001b[1;34m\"ai\"\u001b[0m\u001b[1;33m]\u001b[0m\u001b[1;33m[\u001b[0m\u001b[1;36m2\u001b[0m\u001b[1;33m]\u001b[0m \u001b[1;33m=\u001b[0m \u001b[0mzi\u001b[0m\u001b[1;33m\u001b[0m\u001b[1;33m\u001b[0m\u001b[0m\n\u001b[0;32m     92\u001b[0m \u001b[1;33m\u001b[0m\u001b[0m\n\u001b[1;32m---> 93\u001b[1;33m     \u001b[0mpos_dict\u001b[0m\u001b[1;33m[\u001b[0m\u001b[1;34m\"aj\"\u001b[0m\u001b[1;33m]\u001b[0m\u001b[1;33m[\u001b[0m\u001b[1;36m0\u001b[0m\u001b[1;33m]\u001b[0m \u001b[1;33m=\u001b[0m \u001b[0mxj\u001b[0m\u001b[1;33m\u001b[0m\u001b[1;33m\u001b[0m\u001b[0m\n\u001b[0m\u001b[0;32m     94\u001b[0m     \u001b[0mpos_dict\u001b[0m\u001b[1;33m[\u001b[0m\u001b[1;34m\"aj\"\u001b[0m\u001b[1;33m]\u001b[0m\u001b[1;33m[\u001b[0m\u001b[1;36m1\u001b[0m\u001b[1;33m]\u001b[0m \u001b[1;33m=\u001b[0m \u001b[0myj\u001b[0m\u001b[1;33m\u001b[0m\u001b[1;33m\u001b[0m\u001b[0m\n\u001b[0;32m     95\u001b[0m     \u001b[0mpos_dict\u001b[0m\u001b[1;33m[\u001b[0m\u001b[1;34m\"aj\"\u001b[0m\u001b[1;33m]\u001b[0m\u001b[1;33m[\u001b[0m\u001b[1;36m2\u001b[0m\u001b[1;33m]\u001b[0m \u001b[1;33m=\u001b[0m \u001b[0mzj\u001b[0m\u001b[1;33m\u001b[0m\u001b[1;33m\u001b[0m\u001b[0m\n",
      "\u001b[1;31mValueError\u001b[0m: cannot convert float NaN to integer"
     ]
    }
   ],
   "source": [
    "#Gradient Descent (derivative equation was calculated manually)\n",
    "\n",
    "xi = pos_dict[\"ai\"][0]\n",
    "yi = pos_dict[\"ai\"][1]\n",
    "zi = pos_dict[\"ai\"][2]\n",
    "\n",
    "xj = pos_dict[\"aj\"][0]\n",
    "yj = pos_dict[\"aj\"][1]\n",
    "zj = pos_dict[\"aj\"][2]    \n",
    "\n",
    "xk = pos_dict[\"ak\"][0]\n",
    "yk = pos_dict[\"ak\"][1]           \n",
    "zk = pos_dict[\"ak\"][2]\n",
    "\n",
    "xl = pos_dict[\"al\"][0]\n",
    "yl = pos_dict[\"al\"][1]\n",
    "zl = pos_dict[\"al\"][2]\n",
    "\n",
    "\n",
    "xi_2 = pos_dict[\"ai\"][0]\n",
    "yi_2 = pos_dict[\"ai\"][1]\n",
    "zi_2 = pos_dict[\"ai\"][2]\n",
    "\n",
    "xj_2 = pos_dict[\"aj\"][0]\n",
    "yj_2 = pos_dict[\"aj\"][1]\n",
    "zj_2 = pos_dict[\"aj\"][2]    \n",
    "\n",
    "xk_2 = pos_dict[\"ak\"][0]\n",
    "yk_2 = pos_dict[\"ak\"][1]           \n",
    "zk_2 = pos_dict[\"ak\"][2]\n",
    "\n",
    "xl_2 = pos_dict[\"al\"][0]\n",
    "yl_2 = pos_dict[\"al\"][1]\n",
    "zl_2 = pos_dict[\"al\"][2]\n",
    "\n",
    "# Ok, WTF is the rest of this cell\n",
    "\n",
    "for a in range(20000):\n",
    "    xi_2 -= -charge_dict[\"ai\"]*charge_dict[\"aj\"]*(xi-xj)/np.linalg.norm(pos_dict[\"ai\"]-pos_dict[\"aj\"])**3 - charge_dict[\"ai\"]*charge_dict[\"ak\"]*(xi-xk)/np.linalg.norm(pos_dict[\"ai\"]-pos_dict[\"ak\"])**3 - charge_dict[\"ai\"]*charge_dict[\"al\"]*(xi-xl)/np.linalg.norm(pos_dict[\"ai\"]-pos_dict[\"al\"])**3 + 16*((-12*xi/(np.linalg.norm(pos_dict[\"ai\"]))**14) + (6*xi/(np.linalg.norm(pos_dict[\"ai\"]))**8))\n",
    "    \n",
    "    yi_2 -= -charge_dict[\"ai\"]*charge_dict[\"aj\"]*(yi-yj)/np.linalg.norm(pos_dict[\"ai\"]-pos_dict[\"aj\"])**3 - charge_dict[\"ai\"]*charge_dict[\"ak\"]*(yi-yk)/np.linalg.norm(pos_dict[\"ai\"]-pos_dict[\"ak\"])**3 - charge_dict[\"ai\"]*charge_dict[\"al\"]*(yi-yl)/np.linalg.norm(pos_dict[\"ai\"]-pos_dict[\"al\"])**3 + 16*((-12*yi/(np.linalg.norm(pos_dict[\"ai\"]))**14) + (6*yi/(np.linalg.norm(pos_dict[\"ai\"]))**8))\n",
    "\n",
    "    zi_2 -= -charge_dict[\"ai\"]*charge_dict[\"aj\"]*(zi-zj)/np.linalg.norm(pos_dict[\"ai\"]-pos_dict[\"aj\"])**3 - charge_dict[\"ai\"]*charge_dict[\"ak\"]*(zi-zk)/np.linalg.norm(pos_dict[\"ai\"]-pos_dict[\"ak\"])**3 - charge_dict[\"ai\"]*charge_dict[\"al\"]*(zi-zl)/np.linalg.norm(pos_dict[\"ai\"]-pos_dict[\"al\"])**3 + 16*((-12*zi/(np.linalg.norm(pos_dict[\"ai\"]))**14) + (6*zi/(np.linalg.norm(pos_dict[\"ai\"]))**8))\n",
    "    \n",
    "    \n",
    "    \n",
    "    \n",
    "    xj_2 -= -charge_dict[\"ai\"]*charge_dict[\"aj\"]*(xj-xi)/np.linalg.norm(pos_dict[\"ai\"]-pos_dict[\"aj\"])**3 - charge_dict[\"aj\"]*charge_dict[\"ak\"]*(xj-xk)/np.linalg.norm(pos_dict[\"aj\"]-pos_dict[\"ak\"])**3 - charge_dict[\"aj\"]*charge_dict[\"al\"]*(xj-xl)/np.linalg.norm(pos_dict[\"aj\"]-pos_dict[\"al\"])**3 + 16*((-12*xj/(np.linalg.norm(pos_dict[\"aj\"]))**14) + (6*xj/(np.linalg.norm(pos_dict[\"aj\"]))**8))\n",
    "    \n",
    "    yj_2 -= -charge_dict[\"ai\"]*charge_dict[\"aj\"]*(yj-yi)/np.linalg.norm(pos_dict[\"ai\"]-pos_dict[\"aj\"])**3 - charge_dict[\"aj\"]*charge_dict[\"ak\"]*(yj-yk)/np.linalg.norm(pos_dict[\"aj\"]-pos_dict[\"ak\"])**3 - charge_dict[\"aj\"]*charge_dict[\"al\"]*(yj-yl)/np.linalg.norm(pos_dict[\"aj\"]-pos_dict[\"al\"])**3 + 16*((-12*yj/(np.linalg.norm(pos_dict[\"aj\"]))**14) + (6*yj/(np.linalg.norm(pos_dict[\"aj\"]))**8))\n",
    "    \n",
    "    zj_2 -= -charge_dict[\"ai\"]*charge_dict[\"aj\"]*(zj-zi)/np.linalg.norm(pos_dict[\"ai\"]-pos_dict[\"aj\"])**3 - charge_dict[\"aj\"]*charge_dict[\"ak\"]*(zj-zk)/np.linalg.norm(pos_dict[\"aj\"]-pos_dict[\"ak\"])**3 - charge_dict[\"aj\"]*charge_dict[\"al\"]*(zj-zl)/np.linalg.norm(pos_dict[\"aj\"]-pos_dict[\"al\"])**3 + 16*((-12*zj/(np.linalg.norm(pos_dict[\"aj\"]))**14) + (6*zj/(np.linalg.norm(pos_dict[\"aj\"]))**8))\n",
    "    \n",
    "    \n",
    "    \n",
    "    \n",
    "    xk_2 -= -charge_dict[\"ak\"]*charge_dict[\"ai\"]*(xk-xi)/np.linalg.norm(pos_dict[\"ak\"]-pos_dict[\"ai\"])**3 - charge_dict[\"aj\"]*charge_dict[\"ak\"]*(xk-xj)/np.linalg.norm(pos_dict[\"aj\"]-pos_dict[\"ak\"])**3 - charge_dict[\"ak\"]*charge_dict[\"al\"]*(xk-xl)/np.linalg.norm(pos_dict[\"ak\"]-pos_dict[\"al\"])**3 + 16*((-12*xk/(np.linalg.norm(pos_dict[\"ak\"]))**14) + (6*xk/(np.linalg.norm(pos_dict[\"ak\"]))**8))\n",
    "    \n",
    "    yk_2 -= -charge_dict[\"ak\"]*charge_dict[\"ai\"]*(yk-yi)/np.linalg.norm(pos_dict[\"ak\"]-pos_dict[\"ai\"])**3 - charge_dict[\"aj\"]*charge_dict[\"ak\"]*(yk-yj)/np.linalg.norm(pos_dict[\"aj\"]-pos_dict[\"ak\"])**3 - charge_dict[\"ak\"]*charge_dict[\"al\"]*(xk-xl)/np.linalg.norm(pos_dict[\"ak\"]-pos_dict[\"al\"])**3 + 16*((-12*yk/(np.linalg.norm(pos_dict[\"ak\"]))**14) + (6*yk/(np.linalg.norm(pos_dict[\"ak\"]))**8))\n",
    "    \n",
    "    zk_2 -= -charge_dict[\"ak\"]*charge_dict[\"ai\"]*(zk-zi)/np.linalg.norm(pos_dict[\"ak\"]-pos_dict[\"ai\"])**3 - charge_dict[\"aj\"]*charge_dict[\"ak\"]*(zk-zj)/np.linalg.norm(pos_dict[\"aj\"]-pos_dict[\"ak\"])**3 - charge_dict[\"ak\"]*charge_dict[\"al\"]*(zk-zl)/np.linalg.norm(pos_dict[\"ak\"]-pos_dict[\"al\"])**3 + 16*((-12*zk/(np.linalg.norm(pos_dict[\"ak\"]))**14) + (6*zk/(np.linalg.norm(pos_dict[\"ak\"]))**8))\n",
    "    \n",
    "    \n",
    "    \n",
    "    \n",
    "    xl_2 -= -charge_dict[\"al\"]*charge_dict[\"ai\"]*(xl-xi)/np.linalg.norm(pos_dict[\"al\"]-pos_dict[\"ai\"])**3 - charge_dict[\"al\"]*charge_dict[\"aj\"]*(xl-xj)/np.linalg.norm(pos_dict[\"al\"]-pos_dict[\"aj\"])**3 - charge_dict[\"al\"]*charge_dict[\"ak\"]*(xl-xk)/np.linalg.norm(pos_dict[\"al\"]-pos_dict[\"ak\"])**3 + 16*((-12*xl/(np.linalg.norm(pos_dict[\"al\"]))**14) + (6*xl/(np.linalg.norm(pos_dict[\"al\"]))**8))\n",
    "    \n",
    "    yl_2 -= -charge_dict[\"al\"]*charge_dict[\"ai\"]*(yl-yi)/np.linalg.norm(pos_dict[\"al\"]-pos_dict[\"ai\"])**3 - charge_dict[\"al\"]*charge_dict[\"aj\"]*(yl-yj)/np.linalg.norm(pos_dict[\"al\"]-pos_dict[\"aj\"])**3 - charge_dict[\"al\"]*charge_dict[\"ak\"]*(yl-yk)/np.linalg.norm(pos_dict[\"al\"]-pos_dict[\"ak\"])**3 + 16*((-12*yl/(np.linalg.norm(pos_dict[\"al\"]))**14) + (6*yl/(np.linalg.norm(pos_dict[\"al\"]))**8))\n",
    "    \n",
    "    zl_2 -= -charge_dict[\"al\"]*charge_dict[\"ai\"]*(zl-zi)/np.linalg.norm(pos_dict[\"al\"]-pos_dict[\"ai\"])**3 - charge_dict[\"al\"]*charge_dict[\"aj\"]*(zl-zj)/np.linalg.norm(pos_dict[\"al\"]-pos_dict[\"aj\"])**3 - charge_dict[\"al\"]*charge_dict[\"ak\"]*(zl-zk)/np.linalg.norm(pos_dict[\"al\"]-pos_dict[\"ak\"])**3 + 16*((-12*zl/(np.linalg.norm(pos_dict[\"al\"]))**14) + (6*zl/(np.linalg.norm(pos_dict[\"al\"]))**8))\n",
    "    \n",
    "    \n",
    "    \n",
    "    \n",
    "    xi = xi_2\n",
    "    yi = yi_2\n",
    "    zi = zi_2\n",
    "\n",
    "    xj = xj_2\n",
    "    yj = yj_2\n",
    "    zj = zj_2    \n",
    "\n",
    "    xk = xk_2\n",
    "    yk = yk_2           \n",
    "    zk = zk_2\n",
    "\n",
    "    xl = xl_2\n",
    "    yl = yl_2\n",
    "    zl = zl_2\n",
    "    \n",
    "    pos_dict[\"ai\"][0] = xi \n",
    "    pos_dict[\"ai\"][1] = yi\n",
    "    pos_dict[\"ai\"][2] = zi\n",
    "\n",
    "    pos_dict[\"aj\"][0] = xj\n",
    "    pos_dict[\"aj\"][1] = yj\n",
    "    pos_dict[\"aj\"][2] = zj   \n",
    "\n",
    "    pos_dict[\"ak\"][0] = xk\n",
    "    pos_dict[\"ak\"][1] = yk          \n",
    "    pos_dict[\"ak\"][2] = zk\n",
    "\n",
    "    pos_dict[\"al\"][0] = xl\n",
    "    pos_dict[\"al\"][1] = yl\n",
    "    pos_dict[\"al\"][2] = zl"
   ]
  },
  {
   "cell_type": "code",
   "execution_count": 11,
   "metadata": {},
   "outputs": [
    {
     "output_type": "stream",
     "name": "stdout",
     "text": [
      "Position of Ai:  [2.041515111933937, 4.083030223867874, 6.124545335801756]\nPosition of Aj:  [nan, nan, nan]\nPosition of Ak:  [6.979203148943553, 7.976232170221203, 8.973261191498851]\nPosition of Al:  [9.998237098197453, 10.99806080801719, 11.997884517836935]\n"
     ]
    }
   ],
   "source": [
    "print(\"Position of Ai: \",[xi,yi,zi])\n",
    "print(\"Position of Aj: \",[xj,yj,zj])\n",
    "print(\"Position of Ak: \",[xk,yk,zk])\n",
    "print(\"Position of Al: \",[xl,yl,zl])"
   ]
  },
  {
   "cell_type": "code",
   "execution_count": null,
   "metadata": {},
   "outputs": [],
   "source": [
    "E = 0\n",
    "for i in amino:\n",
    "    for j in amino[amino.index(i)+1:]:\n",
    "        E += charge_dict[i]*charge_dict[j]/np.linalg.norm(pos_dict[i]-pos_dict[j])\n",
    "    E += 16*((1/np.linalg.norm(pos_dict[i]))**12 - (1/np.linalg.norm(pos_dict[i]))**6)\n",
    "print(E)"
   ]
  },
  {
   "cell_type": "code",
   "execution_count": 8,
   "metadata": {},
   "outputs": [],
   "source": [
    "#The number of iterations was decided by hit and trial "
   ]
  }
 ],
 "metadata": {
  "kernelspec": {
   "display_name": "Python 3",
   "language": "python",
   "name": "python3"
  },
  "language_info": {
   "codemirror_mode": {
    "name": "ipython",
    "version": 3
   },
   "file_extension": ".py",
   "mimetype": "text/x-python",
   "name": "python",
   "nbconvert_exporter": "python",
   "pygments_lexer": "ipython3",
   "version": "3.8.5-final"
  }
 },
 "nbformat": 4,
 "nbformat_minor": 4
}