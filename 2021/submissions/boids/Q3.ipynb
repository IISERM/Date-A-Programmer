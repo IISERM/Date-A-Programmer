{
 "cells": [
  {
   "cell_type": "code",
   "execution_count": 2,
   "metadata": {
    "colab": {
     "base_uri": "https://localhost:8080/"
    },
    "id": "EVVJt12zgbQI",
    "outputId": "41d5b801-70df-4781-cc00-e161601257d7"
   },
   "outputs": [
    {
     "output_type": "stream",
     "name": "stdout",
     "text": [
      "Enter Genotypes:\n",
      "Genotype of individual 1\n",
      "Genotype of individual 2\n",
      "Genotype of individual 3\n",
      "Genotype of individual 4\n",
      "CC, cc, Cc/cC\n",
      " 0.0 0.75 0.25\n"
     ]
    }
   ],
   "source": [
    "N=input('N=')\n",
    "N=int(N)\n",
    "print('Enter Genotypes:')\n",
    "gtp=[]\n",
    "mati=[]\n",
    "for i in range(0,2**N):\n",
    "  gtp.append(0)\n",
    "  print('Genotype of individual',i+1)\n",
    "  gtp[i]=input(':')\n",
    "for i in range(0,len(gtp)):\n",
    "  mati.append(['CC',0,'Cc',0,'cc',0])\n",
    "  if gtp[i]==mati[-1][0]:\n",
    "    mati[-1][1]+=1\n",
    "  elif gtp[i]==mati[-1][2] or gtp[i]=='cC':\n",
    "    mati[-1][3]+=1\n",
    "  elif gtp[i]==mati[-1][4]:\n",
    "    mati[-1][5]+=1\n",
    "for i in range(0,N):\n",
    "  temp=[]\n",
    "  for j in range(0,len(mati),2):\n",
    "    all=['C',mati[j][1]+(mati[j][3]/2),'c',mati[j][5]+(mati[j][3]/2),'C',mati[j+1][1]+(mati[j+1][3]/2),'c',mati[j+1][5]+(mati[j+1][3]/2)]\n",
    "    temp.append(['CC',all[1]*all[5],'Cc',(all[1]*all[7])+(all[3]*all[5]),'cc',all[3]*all[7]])\n",
    "  mati=temp\n",
    "print('CC, cc, Cc/cC\\n',mati[0][1],mati[0][5],mati[0][3])"
   ]
  },
  {
   "cell_type": "code",
   "execution_count": null,
   "metadata": {},
   "outputs": [],
   "source": []
  }
 ],
 "metadata": {
  "colab": {
   "name": "Untitled0.ipynb",
   "provenance": []
  },
  "kernelspec": {
   "display_name": "Python 3",
   "language": "python",
   "name": "python3"
  },
  "language_info": {
   "codemirror_mode": {
    "name": "ipython",
    "version": 3
   },
   "file_extension": ".py",
   "mimetype": "text/x-python",
   "name": "python",
   "nbconvert_exporter": "python",
   "pygments_lexer": "ipython3",
   "version": "3.8.5-final"
  }
 },
 "nbformat": 4,
 "nbformat_minor": 1
}