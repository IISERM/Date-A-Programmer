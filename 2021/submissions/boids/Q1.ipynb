{
 "cells": [
  {
   "cell_type": "code",
   "execution_count": 17,
   "metadata": {
    "colab": {
     "base_uri": "https://localhost:8080/"
    },
    "id": "T3WDM4Nf3SQg",
    "outputId": "9633ed18-961d-43fa-c6b5-2979d403596a"
   },
   "outputs": [
    {
     "name": "stdout",
     "output_type": "stream",
     "text": [
      "All kmers:\n",
      " ['AGGAA', 'GGAAT', 'GAATA', 'AATAT', 'ATATC', 'TATCC', 'ATCCC', 'TCCCA', 'CCCAT', 'CCATG', 'CATGA', 'ATGAA', 'TGAAT', 'GAATT', 'AATTG', 'ATTGA', 'TTGAT', 'TGATA', 'GATAG', 'ATAGA', 'TAGAT', 'AGATC', 'GATCT', 'ATCTG', 'TCTGA', 'CTGAA', 'TGAAG', 'GAAGA', 'AAGAT', 'AGATC', 'GATCA', 'ATCAG', 'TCAGT', 'CAGTA', 'AGTAG', 'GTAGT', 'TAGTT', 'AGTTC', 'GTTCT', 'TTCTT', 'TCTTC', 'CTTCA', 'TTCAG', 'TCAGA', 'CAGAA', 'AGAAT', 'GAATG', 'AATGG', 'ATGGG', 'TGGGG', 'GGGGG', 'GGGGA', 'GGGAT', 'GGATC', 'GATCT', 'ATCTA', 'TCTAT', 'CTATA', 'TATAG', 'ATAGA', 'TAGAC', 'AGACT', 'GACTA', 'ACTAA', 'CTAAA', 'TAAAG', 'AAAGA', 'AAGAC', 'AGACA', 'GACAG', 'ACAGA', 'CAGAG', 'AGAGC', 'GAGCA', 'AGCAT', 'GCATT', 'CATTG', 'ATTGG', 'TTGGA', 'TGGAT', 'GGATA', 'GATAC', 'ATACC', 'TACCC', 'ACCCT', 'CCCTG', 'CCTGT', 'CTGTA', 'TGTAT', 'GTATT', 'TATTG', 'ATTGG', 'TTGGT', 'TGGTA', 'GGTAA', 'GTAAC', 'TAACA', 'AACAA', 'ACAAC', 'CAACC', 'AACCT', 'ACCTC', 'CCTCC', 'CTCCG', 'TCCGC', 'CCGCT', 'CGCTT', 'GCTTT', 'CTTTT', 'TTTTT', 'TTTTA', 'TTTAA', 'TTAAT', 'TAATA', 'AATAA', 'ATAAT', 'TAATT', 'AATTA', 'ATTAG', 'TTAGG', 'TAGGC', 'AGGCT', 'GGCTA', 'GCTAT', 'CTATC', 'TATCA', 'ATCAA', 'TCAAC', 'CAACT', 'AACTG', 'ACTGT', 'CTGTA', 'TGTAG', 'GTAGC', 'TAGCA', 'AGCAC', 'GCACA', 'CACAA', 'ACAAG', 'CAAGG', 'AAGGA', 'AGGAT', 'GGATC', 'GATCG', 'ATCGC', 'TCGCA', 'CGCAT', 'GCATA', 'CATAA', 'ATAAA', 'TAAAG', 'AAAGC', 'AAGCG', 'AGCGC', 'GCGCC', 'CGCCA', 'GCCAT', 'CCATG', 'CATGC', 'ATGCC', 'TGCCC', 'GCCCG', 'CCCGA', 'CCGAC', 'CGACC', 'GACCG', 'ACCGG', 'CCGGC', 'CGGCA', 'GGCAA', 'GCAAC', 'CAACC', 'AACCT', 'ACCTA', 'CCTAA', 'CTAAG', 'TAAGG', 'AAGGA', 'AGGAT', 'GGATA', 'GATAC', 'ATACG', 'TACGC', 'ACGCG', 'CGCGG', 'GCGGT', 'CGGTG', 'GGTGG', 'GTGGT', 'TGGTC', 'GGTCA', 'GTCAA', 'TCAAA', 'CAAAC', 'AAACC', 'AACCG', 'ACCGC', 'CCGCA', 'CGCAA', 'GCAAC', 'CAACT', 'AACTA', 'ACTAC', 'CTACT', 'TACTA', 'ACTAC', 'CTACT', 'TACTG', 'ACTGT', 'CTGTC', 'TGTCG', 'GTCGG', 'TCGGG', 'CGGGG', 'GGGGC', 'GGGCA', 'GGCAT', 'GCATA', 'CATAC', 'ATACT', 'TACTC', 'ACTCG', 'CTCGT', 'TCGTT', 'CGTTA', 'GTTAC', 'TTACT', 'TACTA', 'ACTAC', 'CTACC', 'TACCT', 'ACCTA', 'CCTAC', 'CTACA', 'TACAC', 'ACACG', 'CACGA', 'ACGAA', 'CGAAG', 'GAAGC', 'AAGCA', 'AGCAT', 'GCATG', 'CATGT', 'ATGTA', 'TGTAA', 'GTAAT', 'TAATC', 'AATCC', 'ATCCA', 'TCCAT', 'CCATC', 'CATCG', 'ATCGT', 'TCGTG', 'CGTGA', 'GTGAT', 'TGATG', 'GATGA', 'ATGAT', 'TGATT', 'GATTA', 'ATTAG', 'TTAGA', 'TAGAC', 'AGACG', 'GACGA', 'ACGAT', 'CGATA', 'GATAT', 'ATATG', 'TATGA', 'ATGAG', 'TGAGA', 'GAGAA', 'AGAAC', 'GAACG', 'AACGT', 'ACGTT', 'CGTTT', 'GTTTG', 'TTTGA', 'TTGAT', 'TGATC', 'GATCC', 'ATCCC', 'TCCCA', 'CCCAC', 'CCACA', 'CACAC', 'ACACA', 'CACAT', 'ACATC', 'CATCG', 'ATCGC', 'TCGCC', 'CGCCT', 'GCCTT', 'CCTTC', 'CTTCA', 'TTCAC', 'TCACG', 'CACGG', 'ACGGC', 'CGGCT', 'GGCTT', 'GCTTA', 'CTTAA', 'TTAAA', 'TAAAC', 'AAACA', 'AACAC', 'ACACA', 'CACAG', 'ACAGC', 'CAGCA', 'AGCAA', 'GCAAA', 'CAAAT', 'AAATA', 'AATAC', 'ATACC', 'TACCA', 'ACCAC', 'CCACT', 'CACTT', 'ACTTC', 'CTTCT', 'TTCTG', 'TCTGT', 'CTGTG', 'TGTGG', 'GTGGG', 'TGGGT', 'GGGTG', 'GGTGG', 'GTGGT', 'TGGTG', 'GGTGG', 'GTGGG', 'TGGGA', 'GGGAC', 'GGACG', 'GACGC', 'ACGCG', 'CGCGA', 'GCGAA', 'CGAAC', 'GAACT', 'AACTA', 'ACTAA', 'CTAAA', 'TAAAC', 'AAACT', 'AACTC', 'ACTCT', 'CTCTA', 'TCTAG', 'CTAGG', 'TAGGC', 'AGGCA', 'GGCAC', 'GCACC', 'CACCA', 'ACCAA', 'CCAAC', 'CAACA', 'AACAA', 'ACAAT', 'CAATT', 'AATTC', 'ATTCT', 'TTCTG', 'TCTGA', 'CTGAA', 'TGAAA', 'GAAAA', 'AAAAA', 'AAAAG', 'AAAGT', 'AAGTA', 'AGTAG', 'GTAGC', 'TAGCT', 'AGCTG', 'GCTGC', 'CTGCA', 'TGCAC', 'GCACC', 'CACCT', 'ACCTG', 'CCTGC', 'CTGCA', 'TGCAA', 'GCAAT', 'CAATA', 'AATAC', 'ATACT', 'TACTG', 'ACTGT', 'CTGTC', 'TGTCC', 'GTCCC', 'TCCCA', 'CCCAC', 'CCACA', 'CACAA', 'ACAAC', 'CAACA', 'AACAT', 'ACATT', 'CATTA', 'ATTAA', 'TTAAC', 'TAACA', 'AACAG', 'ACAGT', 'CAGTA', 'AGTAC', 'GTACA', 'TACAA', 'ACAAG', 'CAAGA', 'AAGAA', 'AGAAA', 'GAAAC', 'AAACA', 'AACAA', 'ACAAG', 'CAAGA', 'AAGAC', 'AGACT', 'GACTG', 'ACTGC', 'CTGCG', 'TGCGG', 'GCGGT', 'CGGTT', 'GGTTT', 'GTTTT', 'TTTTT', 'TTTTC', 'TTTCC', 'TTCCC', 'TCCCT', 'CCCTG', 'CCTGG', 'CTGGA', 'TGGAT', 'GGATC', 'GATCA', 'ATCAG', 'TCAGG', 'CAGGG', 'AGGGA', 'GGGAG', 'GGAGT', 'GAGTG', 'AGTGT', 'GTGTC', 'TGTCC', 'GTCCC', 'TCCCA', 'CCCAT', 'CCATC', 'CATCA', 'ATCAA', 'TCAAG', 'CAAGC', 'AAGCT', 'AGCTA', 'GCTAG', 'CTAGG', 'TAGGA', 'AGGAT', 'GGATG', 'GATGA', 'ATGAC', 'TGACT', 'GACTT', 'ACTTG', 'CTTGC', 'TTGCC', 'TGCCG', 'GCCGC', 'CCGCT', 'CGCTG', 'GCTGT', 'CTGTG', 'TGTGC', 'GTGCC', 'TGCCT', 'GCCTG', 'CCTGT', 'CTGTG', 'TGTGA', 'GTGAG', 'TGAGT', 'GAGTG', 'AGTGG', 'GTGGT', 'TGGTT', 'GGTTA', 'GTTAT', 'TTATC', 'TATCT', 'ATCTG', 'TCTGG', 'CTGGG', 'TGGGC', 'GGGCA', 'GGCAC', 'GCACG', 'CACGC', 'ACGCC', 'CGCCA', 'GCCAT', 'CCATA', 'CATAT', 'ATATG', 'TATGT', 'ATGTG', 'TGTGT', 'GTGTT', 'TGTTG', 'GTTGA', 'TTGAA', 'TGAAG', 'GAAGT', 'AAGTG', 'AGTGC', 'GTGCA', 'TGCAG', 'GCAGT', 'CAGTA', 'AGTAA', 'GTAAC', 'TAACG', 'AACGG', 'ACGGG', 'CGGGG', 'GGGGT', 'GGGTA', 'GGTAG', 'GTAGT', 'TAGTA', 'AGTAT', 'GTATA', 'TATAA', 'ATAAC', 'TAACA', 'AACAC', 'ACACT', 'CACTG', 'ACTGT', 'CTGTG', 'TGTGG', 'GTGGG', 'TGGGG', 'GGGGT', 'GGGTG', 'GGTGT', 'GTGTA', 'TGTAT', 'GTATC', 'TATCG', 'ATCGA', 'TCGAA', 'CGAAC', 'GAACG', 'AACGC', 'ACGCG', 'CGCGG', 'GCGGA', 'CGGAG', 'GGAGG', 'GAGGT', 'AGGTC', 'GGTCC', 'GTCCG', 'TCCGC', 'CCGCT', 'CGCTC', 'GCTCA', 'CTCAC', 'TCACC', 'CACCG', 'ACCGC', 'CCGCA', 'CGCAG', 'GCAGT', 'CAGTA', 'AGTAC', 'GTACT', 'TACTC', 'ACTCG', 'CTCGA', 'TCGAA', 'CGAAT', 'GAATA', 'AATAA', 'ATAAC', 'TAACG', 'AACGG', 'ACGGC', 'CGGCC', 'GGCCA', 'GCCAA', 'CCAAA', 'CAAAT', 'AAATA', 'AATAT', 'ATATC', 'TATCT', 'ATCTC', 'TCTCG', 'CTCGG', 'TCGGT', 'CGGTA', 'GGTAA', 'GTAAA', 'TAAAC', 'AAACG', 'AACGT', 'ACGTC', 'CGTCT', 'GTCTC', 'TCTCA', 'CTCAA', 'TCAAC', 'CAACG', 'AACGG', 'ACGGT', 'CGGTA', 'GGTAT', 'GTATG', 'TATGA', 'ATGAA', 'TGAAG', 'GAAGC', 'AAGCA', 'AGCAC', 'GCACA', 'CACAG', 'ACAGT', 'CAGTT', 'AGTTG', 'GTTGA', 'TTGAT', 'TGATT', 'GATTT', 'ATTTT', 'TTTTG', 'TTTGG', 'TTGGC', 'TGGCA', 'GGCAC', 'GCACG', 'CACGA', 'ACGAT', 'CGATT', 'GATTA', 'ATTAC', 'TTACC', 'TACCC', 'ACCCG', 'CCCGC', 'CCGCA', 'CGCAA', 'GCAAC', 'CAACG', 'AACGA', 'ACGAA', 'CGAAC', 'GAACG', 'AACGT', 'ACGTT', 'CGTTG', 'GTTGG', 'TTGGT', 'TGGTA', 'GGTAT', 'GTATA', 'TATAT', 'ATATG', 'TATGG', 'ATGGC', 'TGGCA', 'GGCAA', 'GCAAT', 'CAATC', 'AATCG', 'ATCGA', 'TCGAG', 'CGAGC', 'GAGCC', 'AGCCT', 'GCCTT', 'CCTTG', 'CTTGC', 'TTGCT', 'TGCTC', 'GCTCT', 'CTCTA', 'TCTAT', 'CTATA', 'TATAG', 'ATAGC', 'TAGCA', 'AGCAG', 'GCAGA', 'CAGAT', 'AGATT', 'GATTA', 'ATTAC', 'TTACC', 'TACCA', 'ACCAG', 'CCAGG', 'CAGGA', 'AGGAC', 'GGACC', 'GACCT', 'ACCTC', 'CCTCA', 'CTCAC', 'TCACG', 'CACGT', 'ACGTT', 'CGTTA', 'GTTAT', 'TTATG', 'TATGA', 'ATGAG', 'TGAGA', 'GAGAC', 'AGACT', 'GACTT', 'ACTTA', 'CTTAT', 'TTATC', 'TATCT', 'ATCTC', 'TCTCC', 'CTCCG', 'TCCGA', 'CCGAG', 'CGAGG', 'GAGGG', 'AGGGA', 'GGGAG', 'GGAGA', 'GAGAC', 'AGACC', 'GACCT', 'ACCTG', 'CCTGA', 'CTGAA', 'TGAAC', 'GAACT', 'AACTT', 'ACTTA', 'CTTAG', 'TTAGA', 'TAGAC', 'AGACA', 'GACAG', 'ACAGC', 'CAGCG', 'AGCGG', 'GCGGG', 'CGGGC', 'GGGCT', 'GGCTC', 'GCTCA', 'CTCAG', 'TCAGG', 'CAGGT', 'AGGTC', 'GGTCC', 'GTCCC', 'TCCCT', 'CCCTA', 'CCTAA', 'CTAAA', 'TAAAC', 'AAACT', 'AACTT', 'ACTTG', 'CTTGG', 'TTGGC', 'TGGCC', 'GGCCT', 'GCCTA', 'CCTAA', 'CTAAC', 'TAACC', 'AACCT', 'ACCTC', 'CCTCA', 'CTCAT', 'TCATC', 'CATCG', 'ATCGA', 'TCGAT', 'CGATT', 'GATTA', 'ATTAC', 'TTACA', 'TACAT', 'ACATC', 'CATCC', 'ATCCG', 'TCCGC', 'CCGCC', 'CGCCC', 'GCCCC', 'CCCCT', 'CCCTT', 'CCTTG', 'CTTGG', 'TTGGA', 'TGGAC', 'GGACA', 'GACAT', 'ACATA', 'CATAG', 'ATAGT', 'TAGTG', 'AGTGT', 'GTGTT', 'TGTTG', 'GTTGA', 'TTGAG', 'TGAGA', 'GAGAA', 'AGAAG', 'GAAGA', 'AAGAA', 'AGAAG', 'GAAGC', 'AAGCC', 'AGCCG', 'GCCGC', 'CCGCC', 'CGCCT', 'GCCTG', 'CCTGA', 'CTGAG', 'TGAGC', 'GAGCA', 'AGCAA', 'GCAAA', 'CAAAC', 'AAACC', 'AACCC', 'ACCCA', 'CCCAT', 'CCATC', 'CATCA', 'ATCAA', 'TCAAG', 'CAAGA', 'AAGAA', 'AGAAT', 'GAATT', 'AATTA', 'ATTAA', 'TTAAT', 'TAATT', 'AATTT', 'ATTTG', 'TTTGG', 'TTGGC', 'TGGCT', 'GGCTG', 'GCTGT', 'CTGTT', 'TGTTG', 'GTTGA', 'TTGAC', 'TGACA', 'GACAG', 'ACAGC', 'CAGCG', 'AGCGA', 'GCGAT', 'CGATG', 'GATGC', 'ATGCG', 'TGCGC', 'GCGCC', 'CGCCA', 'GCCAA', 'CCAAG', 'CAAGG', 'AAGGC', 'AGGCT', 'GGCTC', 'GCTCT', 'CTCTA', 'TCTAT', 'CTATA', 'TATAT', 'ATATC', 'TATCC', 'ATCCA', 'TCCAA', 'CCAAT', 'CAATG', 'AATGT', 'ATGTG', 'TGTGG', 'GTGGT', 'TGGTG', 'GGTGC', 'GTGCA', 'TGCAC', 'GCACT', 'CACTT', 'ACTTT', 'CTTTT', 'TTTTT', 'TTTTG', 'TTTGG', 'TTGGA', 'TGGAC', 'GGACT', 'GACTT', 'ACTTG', 'CTTGG', 'TTGGT', 'TGGTC', 'GGTCC', 'GTCCT', 'TCCTT', 'CCTTT', 'CTTTA', 'TTTAT', 'TTATT', 'TATTA', 'ATTAT', 'TTATT', 'TATTG', 'ATTGT', 'TTGTG', 'TGTGT', 'GTGTA', 'TGTAA', 'GTAAT', 'TAATT', 'AATTC', 'ATTCT', 'TTCTC', 'TCTCC', 'CTCCC', 'TCCCG', 'CCCGT', 'CCGTC', 'CGTCG', 'GTCGG', 'TCGGG', 'CGGGA', 'GGGAG', 'GGAGA', 'GAGAG', 'AGAGT', 'GAGTA', 'AGTAA', 'GTAAT', 'TAATG', 'AATGT', 'ATGTC', 'TGTCG', 'GTCGA', 'TCGAC', 'CGACT', 'GACTG', 'ACTGG', 'CTGGT', 'TGGTT', 'GGTTT', 'GTTTC', 'TTTCT', 'TTCTC', 'TCTCC', 'CTCCC', 'TCCCT', 'CCCTT', 'CCTTT', 'CTTTA', 'TTTAC', 'TTACG', 'TACGG', 'ACGGC', 'CGGCC'] \n",
      "\n",
      "Most occuring kmers:\n",
      "TCCCA\n",
      "CAGTA\n",
      "ACTGT\n",
      "GTGGT\n",
      "GATTA\n",
      "TAAAC\n",
      "CTGTG\n",
      "GTTGA\n"
     ]
    }
   ],
   "source": [
    "sequence=open('seq.fasta','r')\n",
    "seq=sequence.readlines()[1]\n",
    "k=5\n",
    "kmer=[]\n",
    "diskm=[]\n",
    "diskf=[]\n",
    "for i in range(0,len(seq)-4):\n",
    "  kmer.append(seq[i:i+5])\n",
    "diskm.append(kmer[0])\n",
    "diskf.append(1)\n",
    "for i in range(1,len(kmer)):\n",
    "  flag=0\n",
    "  for j in range(0,len(diskm)):\n",
    "    if kmer[i]==diskm[j]:\n",
    "      diskf[j]+=1\n",
    "      flag=1\n",
    "      break\n",
    "  if flag==0:\n",
    "    diskm.append(kmer[i])\n",
    "    diskf.append(1)\n",
    "print('All kmers:\\n',kmer,'\\n\\nMost occuring kmers:')\n",
    "for i in range(0,len(diskf)):\n",
    "  if diskf[i]==max(diskf):\n",
    "    print(diskm[i])"
   ]
  }
 ],
 "metadata": {
  "colab": {
   "name": "bdfhack.ipynb",
   "provenance": []
  },
  "kernelspec": {
   "display_name": "Python 3",
   "language": "python",
   "name": "python3"
  },
  "language_info": {
   "codemirror_mode": {
    "name": "ipython",
    "version": 3
   },
   "file_extension": ".py",
   "mimetype": "text/x-python",
   "name": "python",
   "nbconvert_exporter": "python",
   "pygments_lexer": "ipython3",
   "version": "3.8.5"
  }
 },
 "nbformat": 4,
 "nbformat_minor": 1
}
