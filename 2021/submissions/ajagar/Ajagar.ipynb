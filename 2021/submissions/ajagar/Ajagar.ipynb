{
 "cells": [
  {
   "cell_type": "code",
   "execution_count": 10,
   "id": "brief-pasta",
   "metadata": {
    "scrolled": true
   },
   "outputs": [
    {
     "output_type": "error",
     "ename": "ValueError",
     "evalue": "invalid literal for int() with base 10: ''",
     "traceback": [
      "\u001b[1;31m---------------------------------------------------------------------------\u001b[0m",
      "\u001b[1;31mValueError\u001b[0m                                Traceback (most recent call last)",
      "\u001b[1;32m<ipython-input-10-436a00c2fcc6>\u001b[0m in \u001b[0;36m<module>\u001b[1;34m\u001b[0m\n\u001b[0;32m      1\u001b[0m \u001b[1;31m#QUESTION 1\u001b[0m\u001b[1;33m\u001b[0m\u001b[1;33m\u001b[0m\u001b[1;33m\u001b[0m\u001b[0m\n\u001b[0;32m      2\u001b[0m \u001b[1;32mimport\u001b[0m \u001b[0mnumpy\u001b[0m \u001b[1;32mas\u001b[0m \u001b[0mnp\u001b[0m\u001b[1;33m\u001b[0m\u001b[1;33m\u001b[0m\u001b[0m\n\u001b[1;32m----> 3\u001b[1;33m \u001b[0mk\u001b[0m\u001b[1;33m=\u001b[0m \u001b[0mint\u001b[0m\u001b[1;33m(\u001b[0m\u001b[0minput\u001b[0m\u001b[1;33m(\u001b[0m\u001b[1;34m'length of kmer: '\u001b[0m\u001b[1;33m)\u001b[0m\u001b[1;33m)\u001b[0m\u001b[1;33m\u001b[0m\u001b[1;33m\u001b[0m\u001b[0m\n\u001b[0m\u001b[0;32m      4\u001b[0m \u001b[0mfile\u001b[0m\u001b[1;33m=\u001b[0m \u001b[0mopen\u001b[0m\u001b[1;33m(\u001b[0m\u001b[1;34mr\"C:\\Users\\Asus\\Documents\\IISER\\seq.fasta\"\u001b[0m\u001b[1;33m,\u001b[0m\u001b[1;34m\"r\"\u001b[0m\u001b[1;33m)\u001b[0m\u001b[1;33m\u001b[0m\u001b[1;33m\u001b[0m\u001b[0m\n\u001b[0;32m      5\u001b[0m \u001b[0mstg\u001b[0m\u001b[1;33m=\u001b[0m\u001b[1;34m''\u001b[0m\u001b[1;33m\u001b[0m\u001b[1;33m\u001b[0m\u001b[0m\n",
      "\u001b[1;31mValueError\u001b[0m: invalid literal for int() with base 10: ''"
     ]
    }
   ],
   "source": [
    "#QUESTION 1\n",
    "import numpy as np\n",
    "k= int(input('length of kmer: '))\n",
    "file= open(r\"C:\\Users\\Asus\\Documents\\IISER\\seq.fasta\",\"r\")\n",
    "stg=''\n",
    "arr_u= []\n",
    "\n",
    "arr=[]\n",
    "\n",
    "#converting to str\n",
    "for char in file:\n",
    "    stg+=char\n",
    "\n",
    "#sorting through data stg string\n",
    "for i in range(15,len(stg)-k): # +1\n",
    "    str1=''\n",
    "    for j in range(i,i+k):\n",
    "        str1+= stg[j]\n",
    "    arr.append(str1)\n",
    "    \n",
    "#making list of unique kmers\n",
    "for l in arr:\n",
    "    if l not in arr_u:\n",
    "        arr_u.append(l)\n",
    "\n",
    "#counter list\n",
    "counter=np.zeros(len(arr_u))\n",
    "for l in arr:\n",
    "    for k in range(0,len(arr_u)):\n",
    "        if l==arr_u[k]:\n",
    "            counter[k]+=1\n",
    "            \n",
    "#finding index and kmer\n",
    "fin_arr=np.where(counter==np.amax(counter))\n",
    "dic= {}\n",
    "for i in fin_arr[0]:\n",
    "    dic.update({arr_u[i]:int(counter[i])})\n",
    "    \n",
    "q1= input('do you want all unique kmers(y/n): ')\n",
    "if q1=='y':\n",
    "    print(arr_u)\n",
    "q2= input('do you want list of kmers with max frequency (kmer,freq) (y/n): ')\n",
    "if q2=='y':\n",
    "    print(dic)\n",
    "\n",
    "#final answer in the dict"
   ]
  },
  {
   "cell_type": "code",
   "execution_count": 84,
   "id": "changing-option",
   "metadata": {},
   "outputs": [
    {
     "name": "stdout",
     "output_type": "stream",
     "text": [
      "Once deleted, variables cannot be recovered. Proceed (y/[n])? y\n"
     ]
    }
   ],
   "source": [
    "%reset"
   ]
  },
  {
   "cell_type": "code",
   "execution_count": 9,
   "id": "bright-duncan",
   "metadata": {},
   "outputs": [
    {
     "output_type": "stream",
     "name": "stdout",
     "text": [
      "prob is,  0\n"
     ]
    }
   ],
   "source": [
    "#QUESTION 2 \n",
    "# cross of any genotype with AaBb will always give AaBb with 1/4 probabilty\n",
    "# so we can find probability of atleast N in kth generation using bernoulli trials.\n",
    "#from scipy.special import factorial\n",
    "N= int(input('enter \"atleast\" number: '))\n",
    "k= int(input('enter generation: '))\n",
    "\n",
    "def fact(l):\n",
    "    #return factorial(l)\n",
    "    if l == 0:\n",
    "        return 1\n",
    "    return l*fact(l-1);\n",
    "\n",
    "#probability of exactly N\n",
    "\n",
    "def m(k,N):\n",
    "    p= 1/4\n",
    "    q=3/4\n",
    "    a= fact((2**k))/(fact(((2**k)-N))*fact(N))\n",
    "    ans= a*(p**N)*(q**((2**k)-N))\n",
    "    return ans\n",
    "\n",
    "prob= 0\n",
    "for i in range(N, (2**k)+1):\n",
    "       prob += m(k,i)\n",
    "\n",
    "print('prob is, ',prob)"
   ]
  },
  {
   "cell_type": "code",
   "execution_count": null,
   "id": "radio-discrimination",
   "metadata": {},
   "outputs": [],
   "source": [
    "#QUESTION 5\n",
    "N= 100 #no of crets\n",
    "hgt= 1200\n",
    "wdt=800\n",
    "del_t=1\n",
    "\n",
    "def dist(x,y,z):\n",
    "    return np.sqrt(x**2+y**2+z**2)\n",
    "def extstate(av,r):\n",
    "    \n",
    "def state(pos,vel,mass):\n",
    "\n",
    "def sep_f(r):\n",
    "    return 1/r\n",
    "\n",
    "def co_f()"
   ]
  },
  {
   "cell_type": "code",
   "execution_count": 61,
   "id": "collective-visiting",
   "metadata": {},
   "outputs": [
    {
     "name": "stdout",
     "output_type": "stream",
     "text": [
      "(array([  7,  32, 126, 174, 237, 277, 296, 425], dtype=int64),)\n"
     ]
    }
   ],
   "source": [
    "#QUESTION 3\n",
    "n= int(input('enter '))\n",
    "inp='CCccCc'\n",
    "df={'CC':0,'cc':1,'Cc':2}\n",
    "def f(a,b):\n",
    "    if a= df[0] and b= df[0]:\n",
    "        return [df[0],df[0],df[0],df[0]]\n",
    "    elif a= df[0] and b= df[1]:\n",
    "        return [df[0],df[1],df[1],df[2]]\n",
    "    elif a= df[0] and b= df[2]:\n",
    "        return [df[0],df[0],df[2],df[2]]\n",
    "    elif a= df[1] and b= df[2]:\n",
    "        return [df[1],df[1],df[2],df[2]]\n",
    "    elif a= df[1] and b= df[1]:\n",
    "        return [df[1],df[1],df[1],df[1]"
   ]
  },
  {
   "cell_type": "code",
   "execution_count": 74,
   "id": "awful-research",
   "metadata": {},
   "outputs": [
    {
     "data": {
      "text/plain": [
       "0"
      ]
     },
     "execution_count": 74,
     "metadata": {},
     "output_type": "execute_result"
    }
   ],
   "source": [
    "0\n"
   ]
  },
  {
   "cell_type": "code",
   "execution_count": null,
   "id": "other-islam",
   "metadata": {},
   "outputs": [],
   "source": []
  }
 ],
 "metadata": {
  "kernelspec": {
   "display_name": "Python 3",
   "language": "python",
   "name": "python3"
  },
  "language_info": {
   "codemirror_mode": {
    "name": "ipython",
    "version": 3
   },
   "file_extension": ".py",
   "mimetype": "text/x-python",
   "name": "python",
   "nbconvert_exporter": "python",
   "pygments_lexer": "ipython3",
   "version": "3.8.5-final"
  }
 },
 "nbformat": 4,
 "nbformat_minor": 5
}