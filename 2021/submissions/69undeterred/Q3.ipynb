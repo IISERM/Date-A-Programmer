{
 "cells": [
  {
   "cell_type": "code",
   "execution_count": 4,
   "metadata": {},
   "outputs": [
    {
     "output_type": "stream",
     "name": "stdout",
     "text": [
      "0.75 0.0 0.25\n"
     ]
    }
   ],
   "source": [
    "def prob (p) : #Recursive function that calculates probability matrix of every successive generation, until one left\n",
    "    if len(p) == 1 :\n",
    "        return p\n",
    "    else : \n",
    "        x = []\n",
    "        for i in range(0,len(p),2) :\n",
    "            a = p[i][0]\n",
    "            b = p[i][1]\n",
    "            c = p[i][2]\n",
    "            d = p[i+1][0]\n",
    "            e = p[i+1][1]\n",
    "            f = p[i+1][2]\n",
    "            x.append([a*d + ((c*d + a*f)/2) ,b*e + ((c*e + b*f)/2), a*e + d*b + ((a*f + b*f + c*d + c*e )/2)])\n",
    "    return prob(x)\n",
    "\n",
    "def lineage (k,gen) : #Function calculates the probability matrix of first generation\n",
    "    c = [\"Cc\",\"cC\"]\n",
    "    n = []\n",
    "    for i in range(0,2**k,2) : \n",
    "        \n",
    "        if gen[i] == \"CC\" and gen[i+1] == \"cc\" or gen[i] == \"cc\" and gen[i+1] == \"CC\":\n",
    "            n.append([0,0,1])\n",
    "        elif gen[i] == \"CC\" and gen[i+1] == \"CC\":\n",
    "            n.append([1,0,0])\n",
    "        elif gen[i] == \"cc\" and gen[i+1] == \"cc\":\n",
    "            n.append([0,1,0])\n",
    "        elif gen[i] == \"CC\" and gen[i+1] in c or gen[i] in c and gen[i+1] == \"CC\":\n",
    "            n.append([0.5,0,0.5])\n",
    "        elif gen[i] == \"cc\" and gen[i+1] in c or gen[i] in c and gen[i+1] == \"cc\":\n",
    "            n.append([0,0.5,0.5])\n",
    "        elif gen[i] in c and gen[i + 1] in c :\n",
    "            n.append([0.25,0.25,0.5])\n",
    "    return prob(n)\n",
    "k = int(input(\"Enter N = \"))\n",
    "gen0 = input(\"Enter genotype of first generation, each member seperated by a space : \") \n",
    "y = lineage(k,gen0.split(\" \"))[0] #Input n and list here\n",
    "print(y[0],y[1],y[2])"
   ]
  },
  {
   "cell_type": "code",
   "execution_count": null,
   "metadata": {},
   "outputs": [],
   "source": []
  }
 ],
 "metadata": {
  "kernelspec": {
   "display_name": "Python 3",
   "language": "python",
   "name": "python3"
  },
  "language_info": {
   "codemirror_mode": {
    "name": "ipython",
    "version": 3
   },
   "file_extension": ".py",
   "mimetype": "text/x-python",
   "name": "python",
   "nbconvert_exporter": "python",
   "pygments_lexer": "ipython3",
   "version": "3.8.5-final"
  }
 },
 "nbformat": 4,
 "nbformat_minor": 4
}