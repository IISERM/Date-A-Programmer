{
 "cells": [
  {
   "cell_type": "code",
   "execution_count": 1,
   "metadata": {},
   "outputs": [],
   "source": [
    "#Note: I don't know why he sent me this\n",
    "def facc(n,i=1) :\n",
    "    if n == 1 :\n",
    "        return i\n",
    "    return facc(n-1,n*i)\n",
    "def comb(n,r) :\n",
    "    return facc(n)/(facc(r)*facc(n-r))\n",
    "def prob(n,k) :\n",
    "    num = 0\n",
    "    while n < 2**k :  \n",
    "        num += (1/comb(2**k,n)) * 0.25\n",
    "        n += 1\n",
    "    return num"
   ]
  },
  {
   "cell_type": "code",
   "execution_count": 7,
   "metadata": {},
   "outputs": [
    {
     "output_type": "execute_result",
     "data": {
      "text/plain": [
       "0.1857142857142857"
      ]
     },
     "metadata": {},
     "execution_count": 7
    }
   ],
   "source": [
    "prob(1,3)*2"
   ]
  },
  {
   "cell_type": "code",
   "execution_count": null,
   "metadata": {},
   "outputs": [],
   "source": []
  }
 ],
 "metadata": {
  "kernelspec": {
   "display_name": "Python 3",
   "language": "python",
   "name": "python3"
  },
  "language_info": {
   "codemirror_mode": {
    "name": "ipython",
    "version": 3
   },
   "file_extension": ".py",
   "mimetype": "text/x-python",
   "name": "python",
   "nbconvert_exporter": "python",
   "pygments_lexer": "ipython3",
   "version": "3.8.5-final"
  }
 },
 "nbformat": 4,
 "nbformat_minor": 4
}