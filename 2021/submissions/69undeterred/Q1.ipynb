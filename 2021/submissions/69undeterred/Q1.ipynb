{
 "cells": [
  {
   "cell_type": "code",
   "execution_count": null,
   "metadata": {},
   "outputs": [],
   "source": [
    "f=open(\"seq.fasta\")\n",
    "content=f.readlines()[1]\n",
    "k=5\n",
    "dict={}\n",
    "for i in range(0,len(content)-k+1):\n",
    "    kmer=content[i:i+k]\n",
    "    print(kmer,end=\",\")\n",
    "    if(kmer in dict.keys()):\n",
    "        dict[kmer]+=1\n",
    "    else:\n",
    "        dict[kmer]=1\n",
    "req=dict[max(dict,key=dict.get)]\n",
    "print(\"\\n\")\n",
    "for i in dict:\n",
    "    if(dict[i]==req):\n",
    "        print(i,dict[i])"
   ]
  }
 ],
 "metadata": {
  "kernelspec": {
   "display_name": "Python 3",
   "language": "python",
   "name": "python3"
  },
  "language_info": {
   "codemirror_mode": {
    "name": "ipython",
    "version": 3
   },
   "file_extension": ".py",
   "mimetype": "text/x-python",
   "name": "python",
   "nbconvert_exporter": "python",
   "pygments_lexer": "ipython3",
   "version": "3.7.4"
  }
 },
 "nbformat": 4,
 "nbformat_minor": 4
}
