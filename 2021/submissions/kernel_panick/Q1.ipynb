{
 "cells": [
  {
   "cell_type": "code",
   "execution_count": 72,
   "id": "metallic-coordinator",
   "metadata": {},
   "outputs": [
    {
     "name": "stdout",
     "output_type": "stream",
     "text": [
      "Enter filename: seq.fasta\n",
      "Enter k: 5\n",
      "Most Occurring: \n",
      "TCCCA\n",
      "CAGTA\n",
      "ACTGT\n",
      "GTGGT\n",
      "GATTA\n",
      "TAAAC\n",
      "CTGTG\n",
      "GTTGA\n",
      "All k-mers: \n",
      "['AGGAA', 'GGAAT', 'GAATA', 'AATAT', 'ATATC', 'TATCC', 'ATCCC', 'TCCCA', 'CCCAT', 'CCATG', 'CATGA', 'ATGAA', 'TGAAT', 'GAATT', 'AATTG', 'ATTGA', 'TTGAT', 'TGATA', 'GATAG', 'ATAGA', 'TAGAT', 'AGATC', 'GATCT', 'ATCTG', 'TCTGA', 'CTGAA', 'TGAAG', 'GAAGA', 'AAGAT', 'GATCA', 'ATCAG', 'TCAGT', 'CAGTA', 'AGTAG', 'GTAGT', 'TAGTT', 'AGTTC', 'GTTCT', 'TTCTT', 'TCTTC', 'CTTCA', 'TTCAG', 'TCAGA', 'CAGAA', 'AGAAT', 'GAATG', 'AATGG', 'ATGGG', 'TGGGG', 'GGGGG', 'GGGGA', 'GGGAT', 'GGATC', 'ATCTA', 'TCTAT', 'CTATA', 'TATAG', 'TAGAC', 'AGACT', 'GACTA', 'ACTAA', 'CTAAA', 'TAAAG', 'AAAGA', 'AAGAC', 'AGACA', 'GACAG', 'ACAGA', 'CAGAG', 'AGAGC', 'GAGCA', 'AGCAT', 'GCATT', 'CATTG', 'ATTGG', 'TTGGA', 'TGGAT', 'GGATA', 'GATAC', 'ATACC', 'TACCC', 'ACCCT', 'CCCTG', 'CCTGT', 'CTGTA', 'TGTAT', 'GTATT', 'TATTG', 'TTGGT', 'TGGTA', 'GGTAA', 'GTAAC', 'TAACA', 'AACAA', 'ACAAC', 'CAACC', 'AACCT', 'ACCTC', 'CCTCC', 'CTCCG', 'TCCGC', 'CCGCT', 'CGCTT', 'GCTTT', 'CTTTT', 'TTTTT', 'TTTTA', 'TTTAA', 'TTAAT', 'TAATA', 'AATAA', 'ATAAT', 'TAATT', 'AATTA', 'ATTAG', 'TTAGG', 'TAGGC', 'AGGCT', 'GGCTA', 'GCTAT', 'CTATC', 'TATCA', 'ATCAA', 'TCAAC', 'CAACT', 'AACTG', 'ACTGT', 'TGTAG', 'GTAGC', 'TAGCA', 'AGCAC', 'GCACA', 'CACAA', 'ACAAG', 'CAAGG', 'AAGGA', 'AGGAT', 'GATCG', 'ATCGC', 'TCGCA', 'CGCAT', 'GCATA', 'CATAA', 'ATAAA', 'AAAGC', 'AAGCG', 'AGCGC', 'GCGCC', 'CGCCA', 'GCCAT', 'CATGC', 'ATGCC', 'TGCCC', 'GCCCG', 'CCCGA', 'CCGAC', 'CGACC', 'GACCG', 'ACCGG', 'CCGGC', 'CGGCA', 'GGCAA', 'GCAAC', 'ACCTA', 'CCTAA', 'CTAAG', 'TAAGG', 'ATACG', 'TACGC', 'ACGCG', 'CGCGG', 'GCGGT', 'CGGTG', 'GGTGG', 'GTGGT', 'TGGTC', 'GGTCA', 'GTCAA', 'TCAAA', 'CAAAC', 'AAACC', 'AACCG', 'ACCGC', 'CCGCA', 'CGCAA', 'AACTA', 'ACTAC', 'CTACT', 'TACTA', 'TACTG', 'CTGTC', 'TGTCG', 'GTCGG', 'TCGGG', 'CGGGG', 'GGGGC', 'GGGCA', 'GGCAT', 'CATAC', 'ATACT', 'TACTC', 'ACTCG', 'CTCGT', 'TCGTT', 'CGTTA', 'GTTAC', 'TTACT', 'CTACC', 'TACCT', 'CCTAC', 'CTACA', 'TACAC', 'ACACG', 'CACGA', 'ACGAA', 'CGAAG', 'GAAGC', 'AAGCA', 'GCATG', 'CATGT', 'ATGTA', 'TGTAA', 'GTAAT', 'TAATC', 'AATCC', 'ATCCA', 'TCCAT', 'CCATC', 'CATCG', 'ATCGT', 'TCGTG', 'CGTGA', 'GTGAT', 'TGATG', 'GATGA', 'ATGAT', 'TGATT', 'GATTA', 'TTAGA', 'AGACG', 'GACGA', 'ACGAT', 'CGATA', 'GATAT', 'ATATG', 'TATGA', 'ATGAG', 'TGAGA', 'GAGAA', 'AGAAC', 'GAACG', 'AACGT', 'ACGTT', 'CGTTT', 'GTTTG', 'TTTGA', 'TGATC', 'GATCC', 'CCCAC', 'CCACA', 'CACAC', 'ACACA', 'CACAT', 'ACATC', 'TCGCC', 'CGCCT', 'GCCTT', 'CCTTC', 'TTCAC', 'TCACG', 'CACGG', 'ACGGC', 'CGGCT', 'GGCTT', 'GCTTA', 'CTTAA', 'TTAAA', 'TAAAC', 'AAACA', 'AACAC', 'CACAG', 'ACAGC', 'CAGCA', 'AGCAA', 'GCAAA', 'CAAAT', 'AAATA', 'AATAC', 'TACCA', 'ACCAC', 'CCACT', 'CACTT', 'ACTTC', 'CTTCT', 'TTCTG', 'TCTGT', 'CTGTG', 'TGTGG', 'GTGGG', 'TGGGT', 'GGGTG', 'TGGTG', 'TGGGA', 'GGGAC', 'GGACG', 'GACGC', 'CGCGA', 'GCGAA', 'CGAAC', 'GAACT', 'AAACT', 'AACTC', 'ACTCT', 'CTCTA', 'TCTAG', 'CTAGG', 'AGGCA', 'GGCAC', 'GCACC', 'CACCA', 'ACCAA', 'CCAAC', 'CAACA', 'ACAAT', 'CAATT', 'AATTC', 'ATTCT', 'TGAAA', 'GAAAA', 'AAAAA', 'AAAAG', 'AAAGT', 'AAGTA', 'TAGCT', 'AGCTG', 'GCTGC', 'CTGCA', 'TGCAC', 'CACCT', 'ACCTG', 'CCTGC', 'TGCAA', 'GCAAT', 'CAATA', 'TGTCC', 'GTCCC', 'AACAT', 'ACATT', 'CATTA', 'ATTAA', 'TTAAC', 'AACAG', 'ACAGT', 'AGTAC', 'GTACA', 'TACAA', 'CAAGA', 'AAGAA', 'AGAAA', 'GAAAC', 'GACTG', 'ACTGC', 'CTGCG', 'TGCGG', 'CGGTT', 'GGTTT', 'GTTTT', 'TTTTC', 'TTTCC', 'TTCCC', 'TCCCT', 'CCTGG', 'CTGGA', 'TCAGG', 'CAGGG', 'AGGGA', 'GGGAG', 'GGAGT', 'GAGTG', 'AGTGT', 'GTGTC', 'CATCA', 'TCAAG', 'CAAGC', 'AAGCT', 'AGCTA', 'GCTAG', 'TAGGA', 'GGATG', 'ATGAC', 'TGACT', 'GACTT', 'ACTTG', 'CTTGC', 'TTGCC', 'TGCCG', 'GCCGC', 'CGCTG', 'GCTGT', 'TGTGC', 'GTGCC', 'TGCCT', 'GCCTG', 'TGTGA', 'GTGAG', 'TGAGT', 'AGTGG', 'TGGTT', 'GGTTA', 'GTTAT', 'TTATC', 'TATCT', 'TCTGG', 'CTGGG', 'TGGGC', 'GCACG', 'CACGC', 'ACGCC', 'CCATA', 'CATAT', 'TATGT', 'ATGTG', 'TGTGT', 'GTGTT', 'TGTTG', 'GTTGA', 'TTGAA', 'GAAGT', 'AAGTG', 'AGTGC', 'GTGCA', 'TGCAG', 'GCAGT', 'AGTAA', 'TAACG', 'AACGG', 'ACGGG', 'GGGGT', 'GGGTA', 'GGTAG', 'TAGTA', 'AGTAT', 'GTATA', 'TATAA', 'ATAAC', 'ACACT', 'CACTG', 'GGTGT', 'GTGTA', 'GTATC', 'TATCG', 'ATCGA', 'TCGAA', 'AACGC', 'GCGGA', 'CGGAG', 'GGAGG', 'GAGGT', 'AGGTC', 'GGTCC', 'GTCCG', 'CGCTC', 'GCTCA', 'CTCAC', 'TCACC', 'CACCG', 'CGCAG', 'GTACT', 'CTCGA', 'CGAAT', 'CGGCC', 'GGCCA', 'GCCAA', 'CCAAA', 'ATCTC', 'TCTCG', 'CTCGG', 'TCGGT', 'CGGTA', 'GTAAA', 'AAACG', 'ACGTC', 'CGTCT', 'GTCTC', 'TCTCA', 'CTCAA', 'CAACG', 'ACGGT', 'GGTAT', 'GTATG', 'CAGTT', 'AGTTG', 'GATTT', 'ATTTT', 'TTTTG', 'TTTGG', 'TTGGC', 'TGGCA', 'CGATT', 'ATTAC', 'TTACC', 'ACCCG', 'CCCGC', 'AACGA', 'CGTTG', 'GTTGG', 'TATAT', 'TATGG', 'ATGGC', 'CAATC', 'AATCG', 'TCGAG', 'CGAGC', 'GAGCC', 'AGCCT', 'CCTTG', 'TTGCT', 'TGCTC', 'GCTCT', 'ATAGC', 'AGCAG', 'GCAGA', 'CAGAT', 'AGATT', 'ACCAG', 'CCAGG', 'CAGGA', 'AGGAC', 'GGACC', 'GACCT', 'CCTCA', 'CACGT', 'TTATG', 'GAGAC', 'ACTTA', 'CTTAT', 'TCTCC', 'TCCGA', 'CCGAG', 'CGAGG', 'GAGGG', 'GGAGA', 'AGACC', 'CCTGA', 'TGAAC', 'AACTT', 'CTTAG', 'CAGCG', 'AGCGG', 'GCGGG', 'CGGGC', 'GGGCT', 'GGCTC', 'CTCAG', 'CAGGT', 'CCCTA', 'CTTGG', 'TGGCC', 'GGCCT', 'GCCTA', 'CTAAC', 'TAACC', 'CTCAT', 'TCATC', 'TCGAT', 'TTACA', 'TACAT', 'CATCC', 'ATCCG', 'CCGCC', 'CGCCC', 'GCCCC', 'CCCCT', 'CCCTT', 'TGGAC', 'GGACA', 'GACAT', 'ACATA', 'CATAG', 'ATAGT', 'TAGTG', 'TTGAG', 'AGAAG', 'AAGCC', 'AGCCG', 'CTGAG', 'TGAGC', 'AACCC', 'ACCCA', 'AATTT', 'ATTTG', 'TGGCT', 'GGCTG', 'CTGTT', 'TTGAC', 'TGACA', 'AGCGA', 'GCGAT', 'CGATG', 'GATGC', 'ATGCG', 'TGCGC', 'CCAAG', 'AAGGC', 'TCCAA', 'CCAAT', 'CAATG', 'AATGT', 'GGTGC', 'GCACT', 'ACTTT', 'GGACT', 'GTCCT', 'TCCTT', 'CCTTT', 'CTTTA', 'TTTAT', 'TTATT', 'TATTA', 'ATTAT', 'ATTGT', 'TTGTG', 'TTCTC', 'CTCCC', 'TCCCG', 'CCCGT', 'CCGTC', 'CGTCG', 'CGGGA', 'GAGAG', 'AGAGT', 'GAGTA', 'TAATG', 'ATGTC', 'GTCGA', 'TCGAC', 'CGACT', 'ACTGG', 'CTGGT', 'GTTTC', 'TTTCT', 'TTTAC', 'TTACG', 'TACGG']\n"
     ]
    }
   ],
   "source": [
    "filename = input(\"Enter filename: \")\n",
    "k = int(input(\"Enter k: \"))\n",
    "seq = \"\"\n",
    "cnt = 0\n",
    "with open(filename) as file:\n",
    "    for i in file:\n",
    "        seq += i\n",
    "\n",
    "seq = seq.split(\"\\n\", 1)[1]\n",
    "i = 0\n",
    "seq_dict = {}\n",
    "while i <= len(seq)-5:\n",
    "    if seq[i:i+k] in seq_dict:\n",
    "        seq_dict[seq[i:i+k]] += 1\n",
    "    else:\n",
    "        seq_dict[seq[i:i+k]] = 1\n",
    "    i += 1\n",
    "print(\"Most Occurring: \")\n",
    "for i in seq_dict.keys():\n",
    "    if seq_dict[i] == seq_dict[max(seq_dict, key=seq_dict.get)]:\n",
    "        print(i)\n",
    "print(\"All k-mers: \")\n",
    "print(list(seq_dict.keys()))"
   ]
  }
 ],
 "metadata": {
  "kernelspec": {
   "display_name": "Python 3",
   "language": "python",
   "name": "python3"
  },
  "language_info": {
   "codemirror_mode": {
    "name": "ipython",
    "version": 3
   },
   "file_extension": ".py",
   "mimetype": "text/x-python",
   "name": "python",
   "nbconvert_exporter": "python",
   "pygments_lexer": "ipython3",
   "version": "3.8.5"
  }
 },
 "nbformat": 4,
 "nbformat_minor": 5
}
